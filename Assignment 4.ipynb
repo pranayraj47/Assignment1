{
 "cells": [
  {
   "cell_type": "markdown",
   "id": "25c27e1e",
   "metadata": {},
   "source": [
    "#### Question 1)\n",
    "#### Answer:"
   ]
  },
  {
   "cell_type": "code",
   "execution_count": 1,
   "id": "53bc0d92",
   "metadata": {},
   "outputs": [],
   "source": [
    "l = [('Sachin Tendulkar', 34357), ('Ricky Ponting', 27483), ('Jack Kallis', 25534), ('Virat Kohli', 24936)]#### Question 2)\n",
    "#### Answer:"
   ]
  },
  {
   "cell_type": "code",
   "execution_count": 3,
   "id": "ffdeafcd",
   "metadata": {},
   "outputs": [
    {
     "name": "stdout",
     "output_type": "stream",
     "text": [
      "[('Virat Kohli', 24936), ('Jack Kallis', 25534), ('Ricky Ponting', 27483), ('Sachin Tendulkar', 34357)]\n"
     ]
    }
   ],
   "source": [
    "l.sort(key = lambda e : e[1]) #sorted data \n",
    "print(l)"
   ]
  },
  {
   "cell_type": "markdown",
   "id": "79bfae9b",
   "metadata": {},
   "source": [
    "#### Question 2)\n",
    "#### Answer:"
   ]
  },
  {
   "cell_type": "code",
   "execution_count": 4,
   "id": "e241f72d",
   "metadata": {},
   "outputs": [
    {
     "data": {
      "text/plain": [
       "[1, 4, 9, 16, 25, 36, 49, 64, 81, 100]"
      ]
     },
     "execution_count": 4,
     "metadata": {},
     "output_type": "execute_result"
    }
   ],
   "source": [
    "l2= [1, 2, 3, 4, 5, 6, 7, 8, 9, 10]\n",
    "list(map(lambda i : i**2,l2))"
   ]
  },
  {
   "cell_type": "markdown",
   "id": "f8eacb6a",
   "metadata": {},
   "source": [
    "#### Question 3)\n",
    "#### Answer:"
   ]
  },
  {
   "cell_type": "code",
   "execution_count": 7,
   "id": "f8ef90ce",
   "metadata": {},
   "outputs": [
    {
     "data": {
      "text/plain": [
       "('1', '2', '3', '4', '5', '6', '7', '8', '9', '10')"
      ]
     },
     "execution_count": 7,
     "metadata": {},
     "output_type": "execute_result"
    }
   ],
   "source": [
    "l3 = [1, 2, 3, 4, 5, 6, 7, 8, 9, 10]\n",
    "tuple(map(lambda i : str(i),l3))"
   ]
  },
  {
   "cell_type": "markdown",
   "id": "c05cf98b",
   "metadata": {},
   "source": [
    "#### Question 4)\n",
    "#### Answer:"
   ]
  },
  {
   "cell_type": "code",
   "execution_count": 8,
   "id": "78278d14",
   "metadata": {},
   "outputs": [
    {
     "data": {
      "text/plain": [
       "15511210043330985984000000"
      ]
     },
     "execution_count": 8,
     "metadata": {},
     "output_type": "execute_result"
    }
   ],
   "source": [
    "from functools import reduce\n",
    "prod_25= [i for i in range(1,26)]\n",
    "reduce(lambda x,y : x*y, prod_25)"
   ]
  },
  {
   "cell_type": "markdown",
   "id": "a5cdbae0",
   "metadata": {},
   "source": [
    "#### Question 5)\n",
    "#### Answer:"
   ]
  },
  {
   "cell_type": "code",
   "execution_count": 9,
   "id": "f684d7b2",
   "metadata": {},
   "outputs": [
    {
     "data": {
      "text/plain": [
       "[6, 60, 90, 120]"
      ]
     },
     "execution_count": 9,
     "metadata": {},
     "output_type": "execute_result"
    }
   ],
   "source": [
    "l4=[2, 3, 6, 9, 27, 60, 90, 120, 55, 46]\n",
    "list(filter(lambda x: x%2==0 and x%3==0, l4))"
   ]
  },
  {
   "cell_type": "markdown",
   "id": "888ed536",
   "metadata": {},
   "source": [
    "#### Question 6)\n",
    "#### Answer:"
   ]
  },
  {
   "cell_type": "code",
   "execution_count": 10,
   "id": "839ab33d",
   "metadata": {},
   "outputs": [
    {
     "data": {
      "text/plain": [
       "['php', 'aba', 'radar', 'level']"
      ]
     },
     "execution_count": 10,
     "metadata": {},
     "output_type": "execute_result"
    }
   ],
   "source": [
    "lst5=['python', 'php', 'aba', 'radar', 'level']\n",
    "\n",
    "list(filter(lambda x: x[::] == x[::-1], lst5))"
   ]
  },
  {
   "cell_type": "code",
   "execution_count": null,
   "id": "d496e38d",
   "metadata": {},
   "outputs": [],
   "source": []
  }
 ],
 "metadata": {
  "kernelspec": {
   "display_name": "Python 3 (ipykernel)",
   "language": "python",
   "name": "python3"
  },
  "language_info": {
   "codemirror_mode": {
    "name": "ipython",
    "version": 3
   },
   "file_extension": ".py",
   "mimetype": "text/x-python",
   "name": "python",
   "nbconvert_exporter": "python",
   "pygments_lexer": "ipython3",
   "version": "3.10.9"
  }
 },
 "nbformat": 4,
 "nbformat_minor": 5
}
