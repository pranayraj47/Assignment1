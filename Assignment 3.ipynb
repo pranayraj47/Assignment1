{
 "cells": [
  {
   "cell_type": "markdown",
   "id": "3be55073",
   "metadata": {},
   "source": [
    "#### Question1)\n",
    "#### Answer: def keyword is used to create a function in python."
   ]
  },
  {
   "cell_type": "code",
   "execution_count": 4,
   "id": "b50391e0",
   "metadata": {},
   "outputs": [
    {
     "name": "stdout",
     "output_type": "stream",
     "text": [
      "[1, 3, 5, 7, 9, 11, 13, 15, 17, 19, 21, 23, 25]\n"
     ]
    }
   ],
   "source": [
    "#e.g.\n",
    "def ans1():\n",
    "    return [i for i in range(1,26) if i%2!=0]\n",
    "print(ans1())"
   ]
  },
  {
   "cell_type": "markdown",
   "id": "a8a94fff",
   "metadata": {},
   "source": [
    "####  Question2)\n",
    "#### Answer:\n",
    "one can make use of *args and **kwargs when one is  unsure about the number of arguments or the lenghth of arguments is variable to pass in the functions.\n",
    "\n",
    "also *kwargs is specifically used to define data in the form dictionary i.e. in the form of key and value"
   ]
  },
  {
   "cell_type": "code",
   "execution_count": 10,
   "id": "73bcbcde",
   "metadata": {},
   "outputs": [
    {
     "name": "stdout",
     "output_type": "stream",
     "text": [
      "(1, 2, 3, 'pw', 'pran', [67, 69, 71], True)\n",
      "{'fruit': 'apple', 'mark': 67, 'name': 'raj'}\n"
     ]
    }
   ],
   "source": [
    "#e.g\n",
    "def a1(*args):\n",
    "    return args\n",
    "def a2(**kwargs):\n",
    "    return kwargs\n",
    "\n",
    "print(a1(1,2,3,\"pw\",\"pran\",[67,69,71],True))\n",
    "print(a2(fruit=\"apple\",mark=67,name=\"raj\"))"
   ]
  },
  {
   "cell_type": "markdown",
   "id": "22230106",
   "metadata": {},
   "source": [
    "####  Question3)\n",
    "#### Answer:\n",
    "a)an object that is used to iterate or object used to go through and obtain data over iterable objects like lists, tuples, dicts, and sets. is known as iterator.\n",
    "b)iter() is used to initialize the iterator \n",
    "c) next() is used to for iteration"
   ]
  },
  {
   "cell_type": "code",
   "execution_count": 14,
   "id": "58f91cd6",
   "metadata": {},
   "outputs": [
    {
     "name": "stdout",
     "output_type": "stream",
     "text": [
      "1\n",
      "4\n",
      "7\n",
      "8\n",
      "pw\n",
      "xy\n"
     ]
    }
   ],
   "source": [
    "#e.g.\n",
    "l1 = [1,4,7,8,\"pw\",\"xy\"]\n",
    "a = iter(l1)\n",
    "for i in l1:\n",
    "    print(next(a))"
   ]
  },
  {
   "cell_type": "markdown",
   "id": "9f5cd4d7",
   "metadata": {},
   "source": [
    "####  Question4)\n",
    "#### Answer:\n",
    "In Python, a generator function is a function that returns an iterator object, which can be used to iterate over a sequence of values.\n",
    "\n",
    "it can give you one value at a time. Instead of returning all the values at once, like a regular function, it can pause and continue where it left off.\n",
    "\n",
    "Yeild Keyword : is used to begin the generator function in python."
   ]
  },
  {
   "cell_type": "code",
   "execution_count": 15,
   "id": "169d3581",
   "metadata": {},
   "outputs": [
    {
     "name": "stdout",
     "output_type": "stream",
     "text": [
      "0\n",
      "1\n",
      "1\n",
      "2\n",
      "3\n",
      "5\n",
      "8\n",
      "13\n",
      "21\n",
      "34\n",
      "55\n"
     ]
    }
   ],
   "source": [
    "#e.g.\n",
    "def test_fib(n) :\n",
    "    a,b = 0,1\n",
    "    for i in range(n):\n",
    "        yield a\n",
    "        a,b= b ,a+b\n",
    "for i in test_fib(11) :\n",
    "    print(i)"
   ]
  },
  {
   "cell_type": "markdown",
   "id": "091b9fdc",
   "metadata": {},
   "source": [
    "####  Question5)\n",
    "#### Answer:\n"
   ]
  },
  {
   "cell_type": "code",
   "execution_count": 41,
   "id": "384999b2",
   "metadata": {},
   "outputs": [
    {
     "name": "stdout",
     "output_type": "stream",
     "text": [
      "2\n",
      "3\n",
      "5\n",
      "7\n",
      "11\n",
      "13\n",
      "17\n",
      "19\n",
      "23\n",
      "29\n",
      "31\n",
      "37\n",
      "41\n",
      "43\n",
      "47\n",
      "53\n",
      "59\n",
      "61\n",
      "67\n",
      "71\n",
      "73\n",
      "79\n",
      "83\n",
      "89\n",
      "97\n",
      "101\n",
      "103\n",
      "107\n",
      "109\n",
      "113\n",
      "127\n",
      "131\n",
      "137\n",
      "139\n",
      "149\n",
      "151\n",
      "157\n",
      "163\n",
      "167\n",
      "173\n",
      "179\n",
      "181\n",
      "191\n",
      "193\n",
      "197\n",
      "199\n",
      "211\n",
      "223\n",
      "227\n",
      "229\n",
      "233\n",
      "239\n",
      "241\n",
      "251\n",
      "257\n",
      "263\n",
      "269\n",
      "271\n",
      "277\n",
      "281\n",
      "283\n",
      "293\n",
      "307\n",
      "311\n",
      "313\n",
      "317\n",
      "331\n",
      "337\n",
      "347\n",
      "349\n",
      "353\n",
      "359\n",
      "367\n",
      "373\n",
      "379\n",
      "383\n",
      "389\n",
      "397\n",
      "401\n",
      "409\n",
      "419\n",
      "421\n",
      "431\n",
      "433\n",
      "439\n",
      "443\n",
      "449\n",
      "457\n",
      "461\n",
      "463\n",
      "467\n",
      "479\n",
      "487\n",
      "491\n",
      "499\n",
      "503\n",
      "509\n",
      "521\n",
      "523\n",
      "541\n",
      "547\n",
      "557\n",
      "563\n",
      "569\n",
      "571\n",
      "577\n",
      "587\n",
      "593\n",
      "599\n",
      "601\n",
      "607\n",
      "613\n",
      "617\n",
      "619\n",
      "631\n",
      "641\n",
      "643\n",
      "647\n",
      "653\n",
      "659\n",
      "661\n",
      "673\n",
      "677\n",
      "683\n",
      "691\n",
      "701\n",
      "709\n",
      "719\n",
      "727\n",
      "733\n",
      "739\n",
      "743\n",
      "751\n",
      "757\n",
      "761\n",
      "769\n",
      "773\n",
      "787\n",
      "797\n",
      "809\n",
      "811\n",
      "821\n",
      "823\n",
      "827\n",
      "829\n",
      "839\n",
      "853\n",
      "857\n",
      "859\n",
      "863\n",
      "877\n",
      "881\n",
      "883\n",
      "887\n",
      "907\n",
      "911\n",
      "919\n",
      "929\n",
      "937\n",
      "941\n",
      "947\n",
      "953\n",
      "967\n",
      "971\n",
      "977\n",
      "983\n",
      "991\n",
      "997\n"
     ]
    }
   ],
   "source": [
    "\n",
    "def is_prime(n):\n",
    "    if n <= 1:\n",
    "        return False\n",
    "    for i in range(2, n):\n",
    "        if n % i == 0:\n",
    "            return False\n",
    "    return True\n",
    "\n",
    "def prime_num():\n",
    "    for i in range(1,1001):\n",
    "        if is_prime(i):\n",
    "            yield i\n",
    "for i in prime_num():\n",
    "    print(i)\n",
    "\n"
   ]
  },
  {
   "cell_type": "code",
   "execution_count": null,
   "id": "518a034e",
   "metadata": {},
   "outputs": [],
   "source": []
  }
 ],
 "metadata": {
  "kernelspec": {
   "display_name": "Python 3 (ipykernel)",
   "language": "python",
   "name": "python3"
  },
  "language_info": {
   "codemirror_mode": {
    "name": "ipython",
    "version": 3
   },
   "file_extension": ".py",
   "mimetype": "text/x-python",
   "name": "python",
   "nbconvert_exporter": "python",
   "pygments_lexer": "ipython3",
   "version": "3.10.9"
  }
 },
 "nbformat": 4,
 "nbformat_minor": 5
}
