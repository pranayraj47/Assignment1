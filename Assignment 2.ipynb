{
 "cells": [
  {
   "cell_type": "markdown",
   "id": "24ada895",
   "metadata": {},
   "source": [
    "**Question1)**\n",
    "\"You can comment in acode in python using a # symbol.\"\n",
    " one can also make use of  of quotes (\"\"\") \"to comment also called as docstring.\"\n",
    "\n",
    "\n"
   ]
  },
  {
   "cell_type": "code",
   "execution_count": null,
   "id": "10a7d079",
   "metadata": {},
   "outputs": [],
   "source": [
    "#can be used for single line comment\n",
    "\"\"\"quotes or docstring can be used for a multiline comment or a large a comment\"\"\""
   ]
  },
  {
   "cell_type": "markdown",
   "id": "b20736f1",
   "metadata": {},
   "source": [
    "**Question2)**\n",
    "\n",
    "In python, variable is a sort of name assigned to a location where data is stored.\n",
    "Variables are declared so that we can make use of data in later part of code whwnever needed.\n",
    "\n",
    "To declare  variable in python we can use this syntax:- \"variable_name=value\"\n",
    "\n",
    "once we declare a variable and assign a value to it. we can use the data stored in that variable in the upcoming lines of code."
   ]
  },
  {
   "cell_type": "code",
   "execution_count": 1,
   "id": "27de6a02",
   "metadata": {},
   "outputs": [
    {
     "name": "stdout",
     "output_type": "stream",
     "text": [
      "Pranay\n"
     ]
    }
   ],
   "source": [
    "My_Name=\"Pranay\"\n",
    "print(My_Name)"
   ]
  },
  {
   "cell_type": "markdown",
   "id": "459453c4",
   "metadata": {},
   "source": [
    "**Question3)**\n",
    "Python has several in-buit functions to convert data types.\n",
    "Conversion of one data type into other is called as typecasting or typeconversion\n",
    "\n",
    "here if you need to convert any data in specific data type you can use following functions:\n",
    "1)string -> str()\n",
    "2)number -> int(), float(), complex()\n",
    "3)list -> list()\n",
    "4)set -> set()\n",
    "5)tuple -> tuple()\n",
    "6)dictionary -> dict()"
   ]
  },
  {
   "cell_type": "code",
   "execution_count": 6,
   "id": "7faecd6c",
   "metadata": {},
   "outputs": [
    {
     "name": "stdout",
     "output_type": "stream",
     "text": [
      "{1, 2, 3, 4}\n"
     ]
    }
   ],
   "source": [
    "#Example\n",
    "#here we will take a list and convert it into set.\n",
    "list=[1,2,3,4]\n",
    "a=set(list)\n",
    "print(a)\n",
    "      "
   ]
  },
  {
   "cell_type": "markdown",
   "id": "c37fecf0",
   "metadata": {},
   "source": [
    "**Question4)**\n",
    "To execute execute a Python script from the command line you can follow the steps given below:\n",
    "1)Create a Python script file in a text editor.\n",
    "2)Save the Python script file with a .py extension. (for e.g. file.py)\n",
    "3)Open a command prompt in windows or terminal window in apple os.\n",
    "4)search and go to the directory where you saved Python script file.\n",
    "5)we have to write ‘python’ keyword before the file name in the command prompt.(for e.g. python file.py)\n",
    "6)you can now successfully run the python code"
   ]
  },
  {
   "cell_type": "markdown",
   "id": "a64f782a",
   "metadata": {},
   "source": [
    "**Question5)**\n"
   ]
  },
  {
   "cell_type": "code",
   "execution_count": 7,
   "id": "4f517402",
   "metadata": {},
   "outputs": [
    {
     "name": "stdout",
     "output_type": "stream",
     "text": [
      "[2, 3]\n"
     ]
    }
   ],
   "source": [
    "list1= [1, 2, 3, 4, 5]\n",
    "print(list1[1:3])"
   ]
  },
  {
   "cell_type": "markdown",
   "id": "884b91a7",
   "metadata": {},
   "source": [
    "**Question6)**\n",
    "Complex numbers are the numbers that are expressed in the form of a+ib where, a,b are real numbers and 'i' is an imaginary number where i<sup>2</sup>=-1\n",
    "\n"
   ]
  },
  {
   "cell_type": "code",
   "execution_count": 8,
   "id": "32468074",
   "metadata": {},
   "outputs": [
    {
     "name": "stdout",
     "output_type": "stream",
     "text": [
      "<class 'complex'>\n",
      "(1+5j)\n"
     ]
    }
   ],
   "source": [
    "complex_num = 1+5j\n",
    "print(type(complex_num))\n",
    "print(complex_num)"
   ]
  },
  {
   "cell_type": "markdown",
   "id": "af9cb159",
   "metadata": {},
   "source": [
    "**Question7)**\n",
    "The correct syntax to declare a variable is : variable_name=value\n",
    "so below process can be followed:"
   ]
  },
  {
   "cell_type": "code",
   "execution_count": 9,
   "id": "fd2d164f",
   "metadata": {},
   "outputs": [
    {
     "name": "stdout",
     "output_type": "stream",
     "text": [
      "25\n"
     ]
    }
   ],
   "source": [
    "age = 25\n",
    "print(age)"
   ]
  },
  {
   "cell_type": "markdown",
   "id": "7814e469",
   "metadata": {},
   "source": [
    "**Question8)**\n",
    "9.99 is a decimal number so it will be float type of variable."
   ]
  },
  {
   "cell_type": "code",
   "execution_count": 11,
   "id": "79fc5927",
   "metadata": {},
   "outputs": [
    {
     "name": "stdout",
     "output_type": "stream",
     "text": [
      "9.99 <class 'float'>\n"
     ]
    }
   ],
   "source": [
    "price = 9.99\n",
    "print(price,type(price))"
   ]
  },
  {
   "cell_type": "markdown",
   "id": "b41c4a37",
   "metadata": {},
   "source": [
    "**Question9)**\n",
    "\"print()\" function can be used to display or print the variable\n"
   ]
  },
  {
   "cell_type": "code",
   "execution_count": 12,
   "id": "1d580261",
   "metadata": {},
   "outputs": [
    {
     "name": "stdout",
     "output_type": "stream",
     "text": [
      "Pranay Shirole\n"
     ]
    }
   ],
   "source": [
    "name = \"Pranay Shirole\"\n",
    "print(name)"
   ]
  },
  {
   "cell_type": "markdown",
   "id": "725c3d6c",
   "metadata": {},
   "source": [
    "**Question10)**"
   ]
  },
  {
   "cell_type": "code",
   "execution_count": 13,
   "id": "7180c224",
   "metadata": {},
   "outputs": [
    {
     "name": "stdout",
     "output_type": "stream",
     "text": [
      "World\n"
     ]
    }
   ],
   "source": [
    "word= \"Hello, World!\"\n",
    "print(word[7:-1])"
   ]
  },
  {
   "cell_type": "markdown",
   "id": "1d327534",
   "metadata": {},
   "source": [
    "**Question11)**"
   ]
  },
  {
   "cell_type": "code",
   "execution_count": 14,
   "id": "bee31088",
   "metadata": {},
   "outputs": [
    {
     "name": "stdout",
     "output_type": "stream",
     "text": [
      "True\n"
     ]
    }
   ],
   "source": [
    "is_student = True\n",
    "print(is_student)"
   ]
  },
  {
   "cell_type": "code",
   "execution_count": null,
   "id": "debe5759",
   "metadata": {},
   "outputs": [],
   "source": []
  }
 ],
 "metadata": {
  "kernelspec": {
   "display_name": "Python 3 (ipykernel)",
   "language": "python",
   "name": "python3"
  },
  "language_info": {
   "codemirror_mode": {
    "name": "ipython",
    "version": 3
   },
   "file_extension": ".py",
   "mimetype": "text/x-python",
   "name": "python",
   "nbconvert_exporter": "python",
   "pygments_lexer": "ipython3",
   "version": "3.10.9"
  }
 },
 "nbformat": 4,
 "nbformat_minor": 5
}
