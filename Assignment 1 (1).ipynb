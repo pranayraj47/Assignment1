{
 "cells": [
  {
   "cell_type": "code",
   "execution_count": 10,
   "id": "e0e43263-a8b2-44f2-bde4-69dd3066b5fd",
   "metadata": {},
   "outputs": [
    {
     "name": "stdout",
     "output_type": "stream",
     "text": [
      "string1\n",
      "['x', 1, 5, 'strin', 'v']\n",
      "56.89\n",
      "('ak', 'bk', 'ck')\n"
     ]
    }
   ],
   "source": [
    "# Question 1\n",
    "\n",
    "# i) string\n",
    "\n",
    "a=\"string1\"\n",
    "\n",
    "# ii) list\n",
    "b=[\"x\",1,5,\"strin\",\"v\"]\n",
    "\n",
    "# iii) float\n",
    "c=56.890\n",
    "\n",
    "# iv) tuple\n",
    "thistuple = (\"ak\", \"bk\", \"ck\")\n",
    "    \n",
    "print(a)\n",
    "print(b)\n",
    "print(c)\n",
    "print(thistuple)"
   ]
  },
  {
   "cell_type": "code",
   "execution_count": 11,
   "id": "4f0b63a8-a5e3-4a98-88a9-2e940d7830f7",
   "metadata": {
    "tags": []
   },
   "outputs": [],
   "source": [
    "# Question 2\n",
    "# i) string\n",
    "# ii) string\n",
    "#iii) list\n",
    "#iv) integer (int)\n",
    "    "
   ]
  },
  {
   "cell_type": "code",
   "execution_count": 17,
   "id": "c49bf3da-a4a2-4434-a3e2-2fd9d3b5c160",
   "metadata": {},
   "outputs": [
    {
     "name": "stdout",
     "output_type": "stream",
     "text": [
      "38.0\n",
      "1\n",
      "3\n",
      "16\n"
     ]
    }
   ],
   "source": [
    "# Question 3\n",
    " # i) / is used for division e.g.:\n",
    "a= 76/2 #here ans will be a=38\n",
    "print(a)\n",
    " #ii) % is used to find remainder e.g.:\n",
    "b= 5%2 #here ans will be b=1\n",
    "print(b)\n",
    " #iii) // is used to find quotient or intergral part in division\n",
    "c= 7//2 #here ans will be c=3\n",
    "print(c)\n",
    " #iv) ** is a power operator \n",
    "d= 2**4 #here d=16\n",
    "print(d)\n",
    "    "
   ]
  },
  {
   "cell_type": "code",
   "execution_count": 26,
   "id": "0b09aa99-b59d-4929-928e-6df2a3a2006f",
   "metadata": {},
   "outputs": [
    {
     "name": "stdout",
     "output_type": "stream",
     "text": [
      "Jan <class 'str'>\n",
      "45 <class 'int'>\n",
      "67.89 <class 'float'>\n",
      "True <class 'bool'>\n",
      "x <class 'str'>\n",
      "False <class 'bool'>\n",
      "[2, 3, 6] <class 'list'>\n",
      "56 <class 'int'>\n",
      "56.98 <class 'float'>\n",
      "9 <class 'int'>\n"
     ]
    }
   ],
   "source": [
    "# Question 4 creating list and using for loop\n",
    "\n",
    "Data = [\"Jan\", 45, 67.89, True, \"x\", False,[2,3,6], 56, 56.98,9]\n",
    "for x in Data :\n",
    "    print((x),type(x))\n"
   ]
  },
  {
   "cell_type": "code",
   "execution_count": 60,
   "id": "caea6b08-085e-4b82-aa37-5a478836abe6",
   "metadata": {},
   "outputs": [
    {
     "name": "stdin",
     "output_type": "stream",
     "text": [
      "enter first number 456\n",
      "enter second number 2\n"
     ]
    },
    {
     "name": "stdout",
     "output_type": "stream",
     "text": [
      "456 is completely divisible by 2 and it can be divided 3 times.\n"
     ]
    }
   ],
   "source": [
    "# question 5\n",
    "\n",
    "a = int(input( \"enter first number\"))  # num A\n",
    "copyA = a\n",
    "b = int(input(\"enter second number\"))  # num B\n",
    "i=0\n",
    "\n",
    "while True:\n",
    "    if a%b == 0:\n",
    "        a/=b\n",
    "        i+=1\n",
    "        continue\n",
    "    elif a%b != 0 and a < copyA :\n",
    "        print(str(copyA) + \" is completely divisible by \" + str(b) + \" and it can be divided \" + str(i) + \" times.\" )\n",
    "        break\n",
    "    else:\n",
    "        print(str(a) + \" is not divisible by \" + str(b))\n",
    "        break"
   ]
  },
  {
   "cell_type": "code",
   "execution_count": 54,
   "id": "18a2ffce-86d9-46f1-b6a8-ce83a419476b",
   "metadata": {},
   "outputs": [
    {
     "name": "stdout",
     "output_type": "stream",
     "text": [
      "\n",
      "1 is not divisible by 3.\n",
      "\n",
      "14 is not divisible by 3.\n",
      "\n",
      "9 is divisible by 3.\n",
      "\n",
      "27 is divisible by 3.\n",
      "\n",
      "2 is not divisible by 3.\n",
      "\n",
      "35 is not divisible by 3.\n",
      "\n",
      "8 is not divisible by 3.\n",
      "\n",
      "18 is divisible by 3.\n",
      "\n",
      "43 is not divisible by 3.\n",
      "\n",
      "5 is not divisible by 3.\n",
      "\n",
      "11 is not divisible by 3.\n",
      "\n",
      "36 is divisible by 3.\n",
      "\n",
      "7 is not divisible by 3.\n",
      "\n",
      "22 is not divisible by 3.\n",
      "\n",
      "50 is not divisible by 3.\n",
      "\n",
      "3 is divisible by 3.\n",
      "\n",
      "16 is not divisible by 3.\n",
      "\n",
      "41 is not divisible by 3.\n",
      "\n",
      "6 is divisible by 3.\n",
      "\n",
      "12 is divisible by 3.\n",
      "\n",
      "30 is divisible by 3.\n",
      "\n",
      "4 is not divisible by 3.\n",
      "\n",
      "19 is not divisible by 3.\n",
      "\n",
      "33 is divisible by 3.\n",
      "\n",
      "10 is not divisible by 3.\n"
     ]
    }
   ],
   "source": [
    "# Question 6\n",
    "ListA=[1, 14, 9, 27, 2, 35, 8, 18, 43, 5, 11, 36, 7, 22, 50, 3, 16, 41, 6, 12, 30, 4, 19, 33, 10]\n",
    "for x in ListA :\n",
    "    \n",
    "     \n",
    "    if x%3 == 0:\n",
    "        print(\"\\n\" + str(x) + \" is divisible by 3.\")\n",
    "    else:\n",
    "        print(\"\\n\" + str(x) + \" is not divisible by 3.\")"
   ]
  },
  {
   "cell_type": "code",
   "execution_count": 59,
   "id": "00fff71c-8fd7-478a-a34c-2549e50530dd",
   "metadata": {},
   "outputs": [
    {
     "name": "stdout",
     "output_type": "stream",
     "text": [
      "7\n",
      "56\n"
     ]
    }
   ],
   "source": [
    "# Question 7\n",
    "\n",
    "# Mutable Data types are the ones whose values can be changed. eg -\n",
    "x = [7,5,8,3,9]\n",
    "print(x[0])\n",
    "x[0] = 56  # 0 is index assigned in list\n",
    "print(x[0])\n",
    "\n",
    "\n",
    "# Immutable Data types are the ones whose values can't be changed. eg -\n",
    "immutable = (7,5,8,3,9)\n",
    "#print(immutable[0]) = 0  # Changing the value of the item having 0 index number willgive error as tuples are immutable data type."
   ]
  },
  {
   "cell_type": "code",
   "execution_count": null,
   "id": "57312205-0ab4-429b-8856-6b924a26706a",
   "metadata": {},
   "outputs": [],
   "source": []
  }
 ],
 "metadata": {
  "kernelspec": {
   "display_name": "Python 3 (ipykernel)",
   "language": "python",
   "name": "python3"
  },
  "language_info": {
   "codemirror_mode": {
    "name": "ipython",
    "version": 3
   },
   "file_extension": ".py",
   "mimetype": "text/x-python",
   "name": "python",
   "nbconvert_exporter": "python",
   "pygments_lexer": "ipython3",
   "version": "3.10.8"
  }
 },
 "nbformat": 4,
 "nbformat_minor": 5
}
